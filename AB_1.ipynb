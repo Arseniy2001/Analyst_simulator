{
 "cells": [
  {
   "cell_type": "code",
   "execution_count": 138,
   "id": "350476e6-0634-4466-ba7e-19ee66d741ee",
   "metadata": {},
   "outputs": [],
   "source": [
    "import pandahouse\n",
    "import numpy as np\n",
    "import pandas as pd\n",
    "import hashlib\n",
    "import seaborn as sns\n",
    "import scipy.stats as stats"
   ]
  },
  {
   "cell_type": "code",
   "execution_count": 139,
   "id": "d639d5ad-c33a-4ebd-84ec-0eb85f60e4c9",
   "metadata": {},
   "outputs": [],
   "source": [
    "sns.set(rc={'figure.figsize':(11.7,8.27)})"
   ]
  },
  {
   "cell_type": "markdown",
   "id": "09a279ba-d0f8-43cd-afce-b58afad7325a",
   "metadata": {},
   "source": [
    "<font size=\"16\">Тест Манна-Уитни поверх бакетного преобразования </font>"
   ]
  },
  {
   "cell_type": "code",
   "execution_count": 140,
   "id": "3cf11235-41fa-4ed8-b3ea-ad89f47f6146",
   "metadata": {},
   "outputs": [],
   "source": [
    "connection = {'host': 'https://clickhouse.lab.karpov.courses',\n",
    "'database':'simulator_20230820',\n",
    "'user':'student',\n",
    "'password':'dpo_python_2020'\n",
    "}"
   ]
  },
  {
   "cell_type": "code",
   "execution_count": 141,
   "id": "07e56cca-7bfd-4ac4-916f-999dffc49973",
   "metadata": {},
   "outputs": [],
   "source": [
    "q = \"\"\"\n",
    "SELECT exp_group,buket,\n",
    "        sum(likes)/sum(views) as buket_ctr\n",
    "FROM\n",
    "(SELECT exp_group, \n",
    "    user_id,\n",
    "    xxHash64(user_id)%75 as buket,\n",
    "    sum(action = 'like') as likes,\n",
    "    sum(action = 'view') as views,\n",
    "    likes/views as ctr\n",
    "FROM {db}.feed_actions \n",
    "WHERE toDate(time) between '2023-07-30' and '2023-08-05'\n",
    "    and exp_group in (1,2)\n",
    "GROUP BY exp_group, buket,user_id)\n",
    "GROUP BY exp_group, buket\n",
    "\"\"\"\n",
    "\n",
    "df = pandahouse.read_clickhouse(q, connection=connection)"
   ]
  },
  {
   "cell_type": "code",
   "execution_count": 142,
   "id": "68fbcd88-be69-411f-9b60-0884ef189651",
   "metadata": {},
   "outputs": [
    {
     "data": {
      "text/plain": [
       "<Axes: xlabel='buket_ctr', ylabel='Count'>"
      ]
     },
     "execution_count": 142,
     "metadata": {},
     "output_type": "execute_result"
    },
    {
     "data": {
      "image/png": "[encoded data removed]",
      "text/plain": [
       "<Figure size 842.4x595.44 with 1 Axes>"
      ]
     },
     "metadata": {},
     "output_type": "display_data"
    }
   ],
   "source": [
    "sns.histplot(df[df['exp_group']==1].buket_ctr,color=\"red\")\n",
    "sns.histplot(df[df['exp_group']==2].buket_ctr,color=\"green\")"
   ]
  },
  {
   "cell_type": "code",
   "execution_count": 143,
   "id": "1837d078-913f-43a0-a082-9fd285decc6e",
   "metadata": {},
   "outputs": [
    {
     "data": {
      "text/plain": [
       "MannwhitneyuResult(statistic=4240.0, pvalue=8.153216028601963e-08)"
      ]
     },
     "execution_count": 143,
     "metadata": {},
     "output_type": "execute_result"
    }
   ],
   "source": [
    "stats.mannwhitneyu(df[df['exp_group']==1].buket_ctr,df[df['exp_group']==2].buket_ctr,alternative='two-sided')"
   ]
  },
  {
   "cell_type": "markdown",
   "id": "55e0d94d-e6d7-4eeb-8097-2afbd86c9183",
   "metadata": {},
   "source": [
    "<font size='6' color='DarkSlateBlue'>Тест Манна-Уитни поверх бакетного преобразования показывает p меньше 0.05, т.е. различия между ctr имеются. Судя по диаграмме показатели ctr тестовой группы ниже чем у контрольной. Основная гипотеза об увеличении показателя ctr у второй группы неверна</font>"
   ]
  },
  {
   "cell_type": "markdown",
   "id": "448d5c98-b4a2-4ad7-9fae-5ac58ae1885f",
   "metadata": {},
   "source": [
    "\n",
    "<font size=\"16\">T test и Тест Манна-Уитни</font>"
   ]
  },
  {
   "cell_type": "code",
   "execution_count": 144,
   "id": "02ce79c3-d992-428c-a239-8273cd734100",
   "metadata": {},
   "outputs": [],
   "source": [
    "q = \"\"\"\n",
    "SELECT exp_group, \n",
    "    user_id,\n",
    "    sum(action = 'like') as likes,\n",
    "    sum(action = 'view') as views,\n",
    "    likes/views as ctr\n",
    "FROM {db}.feed_actions \n",
    "WHERE toDate(time) between '2023-07-30' and '2023-08-05'\n",
    "    and exp_group in (1,2)\n",
    "GROUP BY exp_group, user_id\n",
    "\"\"\"\n",
    "\n",
    "df2 = pandahouse.read_clickhouse(q, connection=connection)"
   ]
  },
  {
   "cell_type": "code",
   "execution_count": 145,
   "id": "7d5d0374-483b-4462-8ffa-9d87ab6ab0b0",
   "metadata": {},
   "outputs": [
    {
     "data": {
      "text/plain": [
       "<Axes: xlabel='ctr', ylabel='Count'>"
      ]
     },
     "execution_count": 145,
     "metadata": {},
     "output_type": "execute_result"
    },
    {
     "data": {
      "image/png": "[encoded data removed]",
      "text/plain": [
       "<Figure size 842.4x595.44 with 1 Axes>"
      ]
     },
     "metadata": {},
     "output_type": "display_data"
    }
   ],
   "source": [
    "sns.histplot(df2[df2['exp_group']==1].ctr,color=\"red\")\n",
    "sns.histplot(df2[df2['exp_group']==2].ctr,color=\"green\")"
   ]
  },
  {
   "cell_type": "code",
   "execution_count": 146,
   "id": "8d8731dc-7f84-47f5-a393-2c45b09ebbff",
   "metadata": {},
   "outputs": [
    {
     "data": {
      "text/plain": [
       "Ttest_indResult(statistic=0.4051491913112757, pvalue=0.685373331140751)"
      ]
     },
     "execution_count": 146,
     "metadata": {},
     "output_type": "execute_result"
    }
   ],
   "source": [
    "stats.ttest_ind(df2[df2['exp_group']==1].ctr,df2[df2['exp_group']==2].ctr,equal_var=False)"
   ]
  },
  {
   "cell_type": "markdown",
   "id": "9a08b460-ce13-42c2-8f86-9246c2daebce",
   "metadata": {},
   "source": [
    "<font size='6' color='DarkSlateBlue'> Т тест показал p>0.05 и не отклонил нулевую гипотезу. Распределение тестовой группы не похоже на нормальное, тк является бимодальным, поэтому применять т тест в данном случае не стоит </font>"
   ]
  },
  {
   "cell_type": "code",
   "execution_count": 147,
   "id": "2a370c09-1ea5-40df-bc91-1ba82e00dde5",
   "metadata": {},
   "outputs": [
    {
     "data": {
      "text/plain": [
       "MannwhitneyuResult(statistic=55189913.0, pvalue=4.632205841806026e-45)"
      ]
     },
     "execution_count": 147,
     "metadata": {},
     "output_type": "execute_result"
    }
   ],
   "source": [
    "stats.mannwhitneyu(df2[df2['exp_group']==1].ctr,df2[df2['exp_group']==2].ctr)"
   ]
  },
  {
   "cell_type": "markdown",
   "id": "dec54c6d-6521-4e5b-9e7b-b52e2e404962",
   "metadata": {},
   "source": [
    "<font size='6' color='DarkSlateBlue'> Тест Манна Уитни показал различия между ctr, по диаграмме сложно сказать какой ctr выше(так распределение тестовой группы бимодально),поэтому делаем такой же вывод как в Тесте Манна-Уитни поверх бакетного преобразования </font>"
   ]
  },
  {
   "cell_type": "markdown",
   "id": "4cb6b607-f3d7-4395-9b9a-1b0b44f44a1c",
   "metadata": {},
   "source": [
    "<font size=\"16\">T тест на сглаженном ctr</font>"
   ]
  },
  {
   "cell_type": "code",
   "execution_count": 148,
   "id": "96333058-93b8-4814-acc3-0957ceed35d8",
   "metadata": {},
   "outputs": [],
   "source": [
    "def get_smoothed_ctr(global_ctr,likes,views,alpha=0.5):\n",
    "    return (likes+alpha*global_ctr)/(views+alpha)"
   ]
  },
  {
   "cell_type": "code",
   "execution_count": 149,
   "id": "0d572268-757c-4162-9830-fe6c8bd8e1c6",
   "metadata": {},
   "outputs": [],
   "source": [
    "q = \"\"\"\n",
    "SELECT exp_group, \n",
    "    user_id,\n",
    "    sum(action = 'like') as likes,\n",
    "    sum(action = 'view') as views,\n",
    "    likes/views as ctr\n",
    "FROM {db}.feed_actions \n",
    "WHERE toDate(time) between '2023-07-30' and '2023-08-05'\n",
    "    and exp_group in (1,2)\n",
    "GROUP BY exp_group, user_id\n",
    "\"\"\"\n",
    "\n",
    "df3 = pandahouse.read_clickhouse(q, connection=connection)"
   ]
  },
  {
   "cell_type": "code",
   "execution_count": 150,
   "id": "7b6e3d2d-6d70-4d46-9e25-e9c6f44934ab",
   "metadata": {},
   "outputs": [],
   "source": [
    "global_ctr1=df3[df3['exp_group']==1].likes.sum()/df3[df3['exp_group']==1].views.sum()\n",
    "global_ctr2=df3[df3['exp_group']==2].likes.sum()/df3[df3['exp_group']==2].views.sum()"
   ]
  },
  {
   "cell_type": "code",
   "execution_count": 151,
   "id": "fc090665-5a0a-4153-abed-ba8ddfa3cf14",
   "metadata": {},
   "outputs": [],
   "source": [
    "smoothed_ctr1=get_smoothed_ctr(global_ctr1,df3[df3['exp_group']==1].likes,df3[df3['exp_group']==1].views)\n",
    "smoothed_ctr2=get_smoothed_ctr(global_ctr2,df3[df3['exp_group']==2].likes,df3[df3['exp_group']==2].views)"
   ]
  },
  {
   "cell_type": "code",
   "execution_count": 152,
   "id": "3c672c60-2d9f-4361-8675-ec919acce11c",
   "metadata": {},
   "outputs": [
    {
     "data": {
      "text/plain": [
       "<Axes: ylabel='Count'>"
      ]
     },
     "execution_count": 152,
     "metadata": {},
     "output_type": "execute_result"
    },
    {
     "data": {
      "image/png": "[encoded data removed]",
      "text/plain": [
       "<Figure size 842.4x595.44 with 1 Axes>"
      ]
     },
     "metadata": {},
     "output_type": "display_data"
    }
   ],
   "source": [
    "sns.histplot(smoothed_ctr1,color=\"red\")\n",
    "sns.histplot(smoothed_ctr2,color=\"green\")"
   ]
  },
  {
   "cell_type": "code",
   "execution_count": 153,
   "id": "71ebd610-93cd-48f4-b858-0effbc09d318",
   "metadata": {},
   "outputs": [
    {
     "data": {
      "text/plain": [
       "Ttest_indResult(statistic=0.5822132702627917, pvalue=0.5604313542555932)"
      ]
     },
     "execution_count": 153,
     "metadata": {},
     "output_type": "execute_result"
    }
   ],
   "source": [
    "stats.ttest_ind(smoothed_ctr1,smoothed_ctr2,equal_var=False)"
   ]
  },
  {
   "cell_type": "markdown",
   "id": "c6df393e-a497-4788-b332-712444bc2675",
   "metadata": {},
   "source": [
    "<font size='6' color='DarkSlateBlue'> В силу бимодальности тестовго распределения доверять т тесту опять таки не стоит</font>"
   ]
  },
  {
   "cell_type": "markdown",
   "id": "4336120f-6c87-4a34-a89e-87578aa76962",
   "metadata": {},
   "source": [
    "<font size=\"16\">Пуассоновский бустреп</font>"
   ]
  },
  {
   "cell_type": "code",
   "execution_count": null,
   "id": "cfa71fc8-0232-490b-a285-697c8d52986c",
   "metadata": {},
   "outputs": [],
   "source": []
  },
  {
   "cell_type": "code",
   "execution_count": 154,
   "id": "617294ce-d200-4195-8eb7-2743815def91",
   "metadata": {},
   "outputs": [],
   "source": [
    "def bootstrap(likes1, views1, likes2, views2, n_bootstrap=2000):\n",
    "\n",
    "    poisson_bootstraps1 = stats.poisson(1).rvs(\n",
    "        (n_bootstrap, len(likes1))).astype(np.int64)\n",
    "\n",
    "    poisson_bootstraps2 = stats.poisson(1).rvs(\n",
    "            (n_bootstrap, len(likes2))).astype(np.int64)\n",
    "    \n",
    "    globalCTR1 = (poisson_bootstraps1*likes1).sum(axis=1)/(poisson_bootstraps1*views1).sum(axis=1)\n",
    "    \n",
    "    globalCTR2 = (poisson_bootstraps2*likes2).sum(axis=1)/(poisson_bootstraps2*views2).sum(axis=1)\n",
    "\n",
    "    return globalCTR1, globalCTR2"
   ]
  },
  {
   "cell_type": "code",
   "execution_count": 155,
   "id": "c2778f5b-82ed-4f65-909d-5b7ee0761d87",
   "metadata": {},
   "outputs": [
    {
     "data": {
      "text/plain": [
       "<Axes: ylabel='Count'>"
      ]
     },
     "execution_count": 155,
     "metadata": {},
     "output_type": "execute_result"
    },
    {
     "data": {
      "image/png": "[encoded data removed]",
      "text/plain": [
       "<Figure size 842.4x595.44 with 1 Axes>"
      ]
     },
     "metadata": {},
     "output_type": "display_data"
    }
   ],
   "source": [
    "likes1 = df2[df2.exp_group == 1].likes.to_numpy()\n",
    "views1 = df2[df2.exp_group == 1].views.to_numpy()\n",
    "likes2 = df2[df2.exp_group == 2].likes.to_numpy()\n",
    "views2 = df2[df2.exp_group == 2].views.to_numpy()\n",
    "\n",
    "ctr1, ctr2 = bootstrap(likes1, views1, likes2, views2)\n",
    "\n",
    "sns.histplot(ctr1,color=\"red\")\n",
    "sns.histplot(ctr2,color=\"green\")"
   ]
  },
  {
   "cell_type": "code",
   "execution_count": 157,
   "id": "caedc3f9-adbe-4c3f-9720-11c9193f8b3e",
   "metadata": {},
   "outputs": [
    {
     "data": {
      "text/plain": [
       "Ttest_indResult(statistic=266.0558891583224, pvalue=0.0)"
      ]
     },
     "execution_count": 157,
     "metadata": {},
     "output_type": "execute_result"
    }
   ],
   "source": [
    "stats.ttest_ind(ctr1,ctr2,equal_var=False)"
   ]
  },
  {
   "cell_type": "markdown",
   "id": "1ab539c2-8382-432e-b973-3dc460e5a7d4",
   "metadata": {},
   "source": [
    "<font size='6' color='DarkSlateBlue'> Пуассоновский бустреп показал, что ctr тестовой группы ниже чем у контрольной, что также подтверждается другими тестами </font>"
   ]
  },
  {
   "cell_type": "markdown",
   "id": "3decd7f0-17e6-4556-b324-aa513b9e8186",
   "metadata": {},
   "source": [
    "<font size='6' color='DimGrey'> 3: Возможно алгоритм рекомендации постов был написан некорректно, исходя из бимодальности распределения тестовой группы можно предположить, что люди поделились на две группы : у одной группы алгоритм срабатывал корректно и ctr увеличился, у другой срабатывал плохо и пользователю показывались посты, которые ему нравятся меньше, чем посты из обычной ленты, т.е. подбор постов стал хуже чем раньше.   </font>"
   ]
  },
  {
   "cell_type": "markdown",
   "id": "8e1f2b2b-c770-4cb6-809d-ebfd0a907b25",
   "metadata": {},
   "source": [
    "<font size='6' color='DimGrey'> 4: Исходя из полученных результатов, я не рекомендую вводить новый алгоритм для всех пользователей, так как ctr тестовой группы ниже чем ctr контрольной, то есть основная гипотеза неверна </font>"
   ]
  },
  {
   "cell_type": "code",
   "execution_count": null,
   "id": "aadfea91-1ee1-4891-9074-c0d1d2ac4126",
   "metadata": {},
   "outputs": [],
   "source": []
  }
 ],
 "metadata": {
  "kernelspec": {
   "display_name": "Python 3 (ipykernel)",
   "language": "python",
   "name": "python3"
  },
  "language_info": {
   "codemirror_mode": {
    "name": "ipython",
    "version": 3
   },
   "file_extension": ".py",
   "mimetype": "text/x-python",
   "name": "python",
   "nbconvert_exporter": "python",
   "pygments_lexer": "ipython3",
   "version": "3.8.10"
  }
 },
 "nbformat": 4,
 "nbformat_minor": 5
}
