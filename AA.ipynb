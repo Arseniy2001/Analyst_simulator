{
 "cells": [
  {
   "cell_type": "code",
   "execution_count": 2,
   "id": "934a55ef-ca0c-4eaf-82eb-17b4beb1b233",
   "metadata": {},
   "outputs": [],
   "source": [
    "import pandahouse\n",
    "import numpy as np\n",
    "import pandas as pd\n",
    "import hashlib\n",
    "import seaborn as sns\n",
    "import scipy.stats as stats"
   ]
  },
  {
   "cell_type": "code",
   "execution_count": 10,
   "id": "bccd4795-de8a-4a97-b1b8-fdc938773806",
   "metadata": {},
   "outputs": [],
   "source": [
    "sns.set(rc={'figure.figsize':(11.7,8.27)})"
   ]
  },
  {
   "cell_type": "code",
   "execution_count": 11,
   "id": "89d4d4b8-98c8-4bb4-8550-f1a249c7553c",
   "metadata": {},
   "outputs": [],
   "source": [
    "connection = {'host': 'https://clickhouse.lab.karpov.courses',\n",
    "'database':'simulator_20230820',\n",
    "'user':'student',\n",
    "'password':'dpo_python_2020'\n",
    "}"
   ]
  },
  {
   "cell_type": "code",
   "execution_count": 12,
   "id": "98201938-7902-48d8-ae70-9404a02fa073",
   "metadata": {},
   "outputs": [],
   "source": [
    "q = \"\"\"\n",
    "SELECT exp_group, \n",
    "    user_id,\n",
    "    sum(action = 'like') as likes,\n",
    "    sum(action = 'view') as views,\n",
    "    likes/views as ctr\n",
    "FROM {db}.feed_actions \n",
    "WHERE toDate(time) between '2023-07-23' and '2023-07-29'\n",
    "    and exp_group in (2,3)\n",
    "GROUP BY exp_group, user_id\n",
    "\"\"\"\n",
    "\n",
    "df = pandahouse.read_clickhouse(q, connection=connection)\n"
   ]
  },
  {
   "cell_type": "code",
   "execution_count": 13,
   "id": "0e08c47b-9e39-4f03-a875-3cf678c79e38",
   "metadata": {},
   "outputs": [],
   "source": [
    "count=0\n",
    "p_values=np.zeros(10000)\n",
    "for i in range(10000):\n",
    "    df2=df.loc[df['exp_group'] == 2].sample(500,replace=False).copy().reset_index()\n",
    "    df3=df.loc[df['exp_group'] == 3].sample(500,replace=False).copy().reset_index()\n",
    "    p_value=stats.ttest_ind(df2.ctr,df3.ctr,equal_var=False)[1]\n",
    "    p_values[i]=p_value\n",
    "    if p_value<=0.05:\n",
    "        count+=1"
   ]
  },
  {
   "cell_type": "markdown",
   "id": "902114e3-31ee-42df-8039-d5f5c62dcc5c",
   "metadata": {},
   "source": [
    "<font size=\"12\">Гистограмма распределления p-values </font>"
   ]
  },
  {
   "cell_type": "code",
   "execution_count": 14,
   "id": "3a638d68-8390-4a46-ac10-bde25e31666b",
   "metadata": {},
   "outputs": [
    {
     "data": {
      "text/plain": [
       "<Axes: ylabel='Count'>"
      ]
     },
     "execution_count": 14,
     "metadata": {},
     "output_type": "execute_result"
    },
    {
     "data": {
      "image/png": "[encoded data removed]",
      "text/plain": [
       "<Figure size 842.4x595.44 with 1 Axes>"
      ]
     },
     "metadata": {},
     "output_type": "display_data"
    }
   ],
   "source": [
    "sns.histplot(p_values)"
   ]
  },
  {
   "cell_type": "code",
   "execution_count": 18,
   "id": "020476a3-f483-4ba3-aaa1-f5455ed1cecb",
   "metadata": {},
   "outputs": [
    {
     "name": "stdout",
     "output_type": "stream",
     "text": [
      "Процент p-values<=0.05: 4.43 %\n"
     ]
    }
   ],
   "source": [
    "print(\"Процент p-values<=0.05:\",count/100,\"%\")"
   ]
  },
  {
   "cell_type": "markdown",
   "id": "9996e3cc-30bd-44dc-b65e-75767740e8f9",
   "metadata": {},
   "source": [
    "<font size=\"4\">Вывод: По результатам симуляции из 10000 AA тестов видно, что статистически значемые различия наблюдаются только в 4.43% случаев, те меньше 5%. Система сплитования работает корректно  </font>"
   ]
  },
  {
   "cell_type": "code",
   "execution_count": null,
   "id": "6b0bfb0e-197e-438f-8cad-0c174a718cd0",
   "metadata": {},
   "outputs": [],
   "source": []
  }
 ],
 "metadata": {
  "kernelspec": {
   "display_name": "Python 3 (ipykernel)",
   "language": "python",
   "name": "python3"
  },
  "language_info": {
   "codemirror_mode": {
    "name": "ipython",
    "version": 3
   },
   "file_extension": ".py",
   "mimetype": "text/x-python",
   "name": "python",
   "nbconvert_exporter": "python",
   "pygments_lexer": "ipython3",
   "version": "3.8.10"
  }
 },
 "nbformat": 4,
 "nbformat_minor": 5
}
